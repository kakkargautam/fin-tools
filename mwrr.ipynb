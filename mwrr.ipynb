{
 "cells": [
  {
   "cell_type": "markdown",
   "metadata": {},
   "source": [
    "Introdcution :\n",
    "\n",
    "Code to Calulate MWRR (Money Weighted Rate of Return):\n",
    "Incorporates size and timing of cashflows\n",
    "Given final portfolio value."
   ]
  },
  {
   "cell_type": "code",
   "execution_count": 46,
   "metadata": {},
   "outputs": [
    {
     "name": "stdout",
     "output_type": "stream",
     "text": [
      "        date  cash_flow\n",
      "0 2019-01-20        100\n",
      "1 2019-02-13        310\n",
      "2 2019-04-04        440\n",
      "3 2019-05-23          0\n"
     ]
    }
   ],
   "source": [
    "# Using dataframes to load file\n",
    "\n",
    "import pandas as pd \n",
    "df = pd.read_csv(\"data_mwrr.csv\",parse_dates=['date'])\n",
    "print (df)"
   ]
  },
  {
   "cell_type": "code",
   "execution_count": 47,
   "metadata": {},
   "outputs": [
    {
     "name": "stdout",
     "output_type": "stream",
     "text": [
      "   cash_flow     years\n",
      "0        100  0.065753\n",
      "1        310  0.136986\n",
      "2        440  0.134247\n"
     ]
    }
   ],
   "source": [
    "df['years'] = df.date - df.date.shift(1)\n",
    "df['years'] = df.years.dt.days / 365\n",
    "df['years'] = df.years.shift(-1)\n",
    "df  = df [:-1]\n",
    "del df['date']\n",
    "print (df)"
   ]
  },
  {
   "cell_type": "code",
   "execution_count": 48,
   "metadata": {},
   "outputs": [],
   "source": [
    "def calculatePresentValue(df,irr):\n",
    "    value = 0.0\n",
    "    for a, b in zip(df.cash_flow, df.years):\n",
    "        value += a / ((1 + irr) ** b)\n",
    "    return value\n",
    "\n",
    "def calculateIRR(finalPorfolioValue,df):\n",
    "    value = 0.0\n",
    "    rate = 0.0\n",
    "\n",
    "    if (finalPorfolioValue <= sum(df.cash_flow)):\n",
    "        pv = finalPorfolioValue\n",
    "        while (finalPorfolioValue <= pv):\n",
    "            rate += 0.000001\n",
    "            pv = calculatePresentValue(df,rate)\n",
    "        return(rate)\n",
    "\n",
    "    else:\n",
    "        print(\"Cannot be calculated\")"
   ]
  },
  {
   "cell_type": "code",
   "execution_count": 53,
   "metadata": {},
   "outputs": [
    {
     "name": "stdout",
     "output_type": "stream",
     "text": [
      "Money Weighted Rate is 61.14%\n"
     ]
    }
   ],
   "source": [
    "finalPortfolioValue  = 800\n",
    "mwrr = calculateIRR(finalPortfolioValue,df)\n",
    "print (\"Money Weighted Rate is {:.2%}\".format(mwrr))"
   ]
  }
 ],
 "metadata": {
  "kernelspec": {
   "display_name": "Python 3",
   "language": "python",
   "name": "python3"
  },
  "language_info": {
   "codemirror_mode": {
    "name": "ipython",
    "version": 3
   },
   "file_extension": ".py",
   "mimetype": "text/x-python",
   "name": "python",
   "nbconvert_exporter": "python",
   "pygments_lexer": "ipython3",
   "version": "3.7.4"
  }
 },
 "nbformat": 4,
 "nbformat_minor": 2
}
