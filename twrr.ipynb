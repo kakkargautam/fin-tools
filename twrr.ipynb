{
 "cells": [
  {
   "cell_type": "markdown",
   "metadata": {},
   "source": [
    "### Introdcution\n",
    "\n",
    "TWRR is a measure of the compound rate of growth in a portfolio. This measure is often used to compare the returns of investment managers because it eliminates the distorting effects on growth rates created by inflows and outflows of money. Computation breaks up the return on an investment portfolio into separate intervals based on whether money was added or withdrawn from the fund.\n"
   ]
  },
  {
   "cell_type": "markdown",
   "metadata": {},
   "source": [
    "#### Loading file into dataframe."
   ]
  },
  {
   "cell_type": "code",
   "execution_count": 9,
   "metadata": {},
   "outputs": [
    {
     "name": "stdout",
     "output_type": "stream",
     "text": [
      "        date  cash_flow  present_value\n",
      "0  20/1/2019        100            100\n",
      "1  13/2/2019        200            310\n",
      "2   4/4/2019       -100            440\n",
      "3  23/5/2019        180            500\n"
     ]
    }
   ],
   "source": [
    "import pandas as pd \n",
    "df = pd.read_csv(\"data.csv\")\n",
    "print (df)"
   ]
  },
  {
   "cell_type": "markdown",
   "metadata": {},
   "source": [
    "PV are adjusted to remove the effect of cash flows to portfolio. "
   ]
  },
  {
   "cell_type": "code",
   "execution_count": 10,
   "metadata": {},
   "outputs": [
    {
     "name": "stdout",
     "output_type": "stream",
     "text": [
      "        date  cash_flow  present_value  pv_adjusted_CF\n",
      "0  20/1/2019        100            100               0\n",
      "1  13/2/2019        200            310             110\n",
      "2   4/4/2019       -100            440             540\n",
      "3  23/5/2019        180            500             320\n"
     ]
    }
   ],
   "source": [
    "# pv_adjusted_CF is Afer the adjustment of adjuestment of CF.\n",
    "\n",
    "df['pv_adjusted_CF'] = df.present_value - df.cash_flow\n",
    "print (df)"
   ]
  },
  {
   "cell_type": "markdown",
   "metadata": {},
   "source": [
    "#### Calculating hpr as holding period return"
   ]
  },
  {
   "cell_type": "code",
   "execution_count": 11,
   "metadata": {},
   "outputs": [
    {
     "name": "stdout",
     "output_type": "stream",
     "text": [
      "        date  cash_flow  present_value  pv_adjusted_CF       hpr\n",
      "0  20/1/2019        100            100               0  1.000000\n",
      "1  13/2/2019        200            310             110  1.100000\n",
      "2   4/4/2019       -100            440             540  1.741935\n",
      "3  23/5/2019        180            500             320  0.727273\n"
     ]
    }
   ],
   "source": [
    "df['hpr'] = (df.pv_adjusted_CF / df.present_value.shift(1)) - 1\n",
    "df['hpr'] = df.hpr + 1\n",
    "df.fillna(1, inplace=True)\n",
    "print (df)"
   ]
  },
  {
   "cell_type": "markdown",
   "metadata": {},
   "source": [
    "#### Calculating geometric rate of return. "
   ]
  },
  {
   "cell_type": "code",
   "execution_count": 12,
   "metadata": {},
   "outputs": [
    {
     "name": "stdout",
     "output_type": "stream",
     "text": [
      "Time Weighted Rate is 39.35%\n"
     ]
    }
   ],
   "source": [
    "twrr = df.hpr.prod() - 1\n",
    "print (\"Time Weighted Rate is {:.2%}\".format(twrr))"
   ]
  }
 ],
 "metadata": {
  "kernelspec": {
   "display_name": "Python 3",
   "language": "python",
   "name": "python3"
  },
  "language_info": {
   "codemirror_mode": {
    "name": "ipython",
    "version": 3
   },
   "file_extension": ".py",
   "mimetype": "text/x-python",
   "name": "python",
   "nbconvert_exporter": "python",
   "pygments_lexer": "ipython3",
   "version": "3.7.4"
  }
 },
 "nbformat": 4,
 "nbformat_minor": 2
}
