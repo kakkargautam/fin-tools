{
 "cells": [
  {
   "cell_type": "markdown",
   "metadata": {},
   "source": [
    "Introdcution :\n",
    "\n",
    "Code to Calulate TWRR (Time Weighted Rate of Return):\n",
    "Compare the returns of managed portfolios MFs where there is no control on CFs."
   ]
  },
  {
   "cell_type": "code",
   "execution_count": 46,
   "metadata": {},
   "outputs": [
    {
     "name": "stdout",
     "output_type": "stream",
     "text": [
      "        date  cash_flow  present_value\n",
      "0  20/1/2019        100            100\n",
      "1  13/2/2019        200            310\n",
      "2   4/4/2019        100            440\n",
      "3  23/5/2019        180            500\n"
     ]
    }
   ],
   "source": [
    "# Using dataframes to load file\n",
    "\n",
    "import pandas as pd \n",
    "df = pd.read_csv(\"data.csv\")\n",
    "print (df)"
   ]
  },
  {
   "cell_type": "code",
   "execution_count": 47,
   "metadata": {},
   "outputs": [
    {
     "name": "stdout",
     "output_type": "stream",
     "text": [
      "        date  cash_flow  present_value  pv_adjusted_CF\n",
      "0  20/1/2019        100            100               0\n",
      "1  13/2/2019        200            310             110\n",
      "2   4/4/2019        100            440             340\n",
      "3  23/5/2019        180            500             320\n"
     ]
    }
   ],
   "source": [
    "# pv_adjusted_CF is Afer the adjustment of adjuestment of CF.\n",
    "\n",
    "df['pv_adjusted_CF'] = df.present_value - df.cash_flow\n",
    "print (df)"
   ]
  },
  {
   "cell_type": "code",
   "execution_count": 48,
   "metadata": {},
   "outputs": [
    {
     "name": "stdout",
     "output_type": "stream",
     "text": [
      "        date  cash_flow  present_value  pv_adjusted_CF       hpr\n",
      "0  20/1/2019        100            100               0       NaN\n",
      "1  13/2/2019        200            310             110  0.100000\n",
      "2   4/4/2019        100            440             340  0.096774\n",
      "3  23/5/2019        180            500             320 -0.272727\n"
     ]
    }
   ],
   "source": [
    "# Calculating hpr as holding period return\n",
    "\n",
    "df['hpr'] = (df.pv_adjusted_CF / df.present_value.shift(1)) - 1\n",
    "print (df)"
   ]
  },
  {
   "cell_type": "code",
   "execution_count": 49,
   "metadata": {},
   "outputs": [
    {
     "name": "stdout",
     "output_type": "stream",
     "text": [
      "        date  cash_flow  present_value  pv_adjusted_CF       hpr\n",
      "0  20/1/2019        100            100               0       NaN\n",
      "1  13/2/2019        200            310             110  1.100000\n",
      "2   4/4/2019        100            440             340  1.096774\n",
      "3  23/5/2019        180            500             320  0.727273\n"
     ]
    }
   ],
   "source": [
    "df['hpr'] = df.hpr + 1\n",
    "df.fillna(1, inplace=True)\n",
    "print (df)"
   ]
  },
  {
   "cell_type": "code",
   "execution_count": 60,
   "metadata": {},
   "outputs": [
    {
     "name": "stdout",
     "output_type": "stream",
     "text": [
      "Time Weighted Rate is -12.26%\n"
     ]
    }
   ],
   "source": [
    "# Calculating geometric rate of return. \n",
    "\n",
    "twrr = df.hpr.prod() - 1\n",
    "print (\"Time Weighted Rate is {:.2%}\".format(twrr))"
   ]
  }
 ],
 "metadata": {
  "kernelspec": {
   "display_name": "Python 3",
   "language": "python",
   "name": "python3"
  },
  "language_info": {
   "codemirror_mode": {
    "name": "ipython",
    "version": 3
   },
   "file_extension": ".py",
   "mimetype": "text/x-python",
   "name": "python",
   "nbconvert_exporter": "python",
   "pygments_lexer": "ipython3",
   "version": "3.7.4"
  }
 },
 "nbformat": 4,
 "nbformat_minor": 2
}
