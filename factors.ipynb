{
 "cells": [
  {
   "cell_type": "code",
   "execution_count": 2,
   "metadata": {},
   "outputs": [
    {
     "name": "stdout",
     "output_type": "stream",
     "text": [
      "       Symbol                               Security Name            Industry  \\\n",
      "0  ADANIPORTS  Adani Ports and Special Economic Zone Ltd.            SERVICES   \n",
      "1  ASIANPAINT                           Asian Paints Ltd.      CONSUMER GOODS   \n",
      "2    AXISBANK                              Axis Bank Ltd.  FINANCIAL SERVICES   \n",
      "3  BAJAJ-AUTO                             Bajaj Auto Ltd.          AUTOMOBILE   \n",
      "4  BAJFINANCE                          Bajaj Finance Ltd.  FINANCIAL SERVICES   \n",
      "\n",
      "   Close Price  Index Mcap   Weightage (%)  \n",
      "0        365.7        28779           0.64  \n",
      "1       1616.2        72862           1.62  \n",
      "2        663.9       135628           3.02  \n",
      "3       2788.3        36308           0.81  \n",
      "4       3332.5        79232           1.76  \n"
     ]
    }
   ],
   "source": [
    "import pandas as pd \n",
    "import numpy as np\n",
    "df = pd.read_csv(\"Nifty_50_20190831.csv\") \n",
    "print (df[:5])"
   ]
  }
 ],
 "metadata": {
  "kernelspec": {
   "display_name": "Python 3",
   "language": "python",
   "name": "python3"
  },
  "language_info": {
   "codemirror_mode": {
    "name": "ipython",
    "version": 3
   },
   "file_extension": ".py",
   "mimetype": "text/x-python",
   "name": "python",
   "nbconvert_exporter": "python",
   "pygments_lexer": "ipython3",
   "version": "3.7.4"
  }
 },
 "nbformat": 4,
 "nbformat_minor": 2
}
